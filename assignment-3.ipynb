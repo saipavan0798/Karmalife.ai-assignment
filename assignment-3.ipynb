{
 "cells": [
  {
   "cell_type": "markdown",
   "id": "3e85baf8",
   "metadata": {},
   "source": [
    "### Write a function that accepts a string and returns a mapping (a dictionary or dictionary-like structure) that has words as the keys and the number of times each word was seen as the values."
   ]
  },
  {
   "cell_type": "code",
   "execution_count": 1,
   "id": "37255fde",
   "metadata": {},
   "outputs": [],
   "source": [
    "def count_words(input_str):\n",
    "    \n",
    "    # converting the input string into lowercase\n",
    "    input_str = input_str.lower()\n",
    "    \n",
    "    # break the input string when even we encounter a space\n",
    "    input_str = input_str.split(\" \")\n",
    "    \n",
    "    # empty dict to store the frequency of words\n",
    "    word_frequency={}\n",
    "    \n",
    "    for i in input_str:\n",
    "        \n",
    "        # if the word is already in the keys, increment its frequency\n",
    "        if i in word_frequency:\n",
    "            word_frequency[i]+=1\n",
    "        \n",
    "        # if first occurence of the word\n",
    "        else:\n",
    "            word_frequency[i]=1\n",
    "    return word_frequency"
   ]
  },
  {
   "cell_type": "code",
   "execution_count": 2,
   "id": "23ae9813",
   "metadata": {},
   "outputs": [
    {
     "data": {
      "text/plain": [
       "{'oh': 1, 'what': 2, 'a': 2, 'day': 2, 'lovely': 1}"
      ]
     },
     "execution_count": 2,
     "metadata": {},
     "output_type": "execute_result"
    }
   ],
   "source": [
    "count_words(\"oh what a day what a lovely day\")"
   ]
  },
  {
   "cell_type": "code",
   "execution_count": 3,
   "id": "b3bfb9e0",
   "metadata": {},
   "outputs": [
    {
     "data": {
      "text/plain": [
       "{\"don't\": 1, 'stop': 1, 'believing': 1}"
      ]
     },
     "execution_count": 3,
     "metadata": {},
     "output_type": "execute_result"
    }
   ],
   "source": [
    "count_words(\"don't stop believing\")"
   ]
  },
  {
   "cell_type": "code",
   "execution_count": null,
   "id": "c5637b0a",
   "metadata": {},
   "outputs": [],
   "source": []
  }
 ],
 "metadata": {
  "kernelspec": {
   "display_name": "Python 3",
   "language": "python",
   "name": "python3"
  },
  "language_info": {
   "codemirror_mode": {
    "name": "ipython",
    "version": 3
   },
   "file_extension": ".py",
   "mimetype": "text/x-python",
   "name": "python",
   "nbconvert_exporter": "python",
   "pygments_lexer": "ipython3",
   "version": "3.8.8"
  }
 },
 "nbformat": 4,
 "nbformat_minor": 5
}
